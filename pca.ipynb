{
 "cells": [
  {
   "cell_type": "code",
   "execution_count": null,
   "metadata": {},
   "outputs": [],
   "source": [
    "import torch\n",
    "import torchvision\n",
    "import torchvision.transforms as transforms\n",
    "import torch.nn as nn\n",
    "\n",
    "import pytorch_lightning as pl\n",
    "import torchmetrics\n",
    "\n",
    "from sklearn.decomposition import PCA"
   ]
  },
  {
   "cell_type": "code",
   "execution_count": 2,
   "metadata": {},
   "outputs": [],
   "source": [
    "class mnist_pl(pl.LightningModule):\n",
    "    def __init__(self, inp):\n",
    "        super(mnist_pl, self).__init__()\n",
    "        \n",
    "        self.loss = nn.CrossEntropyLoss()\n",
    "        self.lr = 0.01\n",
    "        \n",
    "        self.train_accm = torchmetrics.Accuracy()\n",
    "        self.valid_accm = torchmetrics.Accuracy()\n",
    "        self.train_acc = 0.\n",
    "        self.avg_train_loss = 0.\n",
    "        \n",
    "        self.model = nn.Sequential(\n",
    "            nn.Flatten(),\n",
    "            nn.Linear(inp, 64),\n",
    "            nn.ReLU(),\n",
    "            nn.Dropout(0.25),\n",
    "            nn.Linear(64, 32),\n",
    "            nn.ReLU(),\n",
    "            nn.Dropout(0.25),\n",
    "            nn.Linear(32, 10)\n",
    "        )\n",
    "            \n",
    "    def forward(self, X):\n",
    "        X = self.model(X)\n",
    "        return X\n",
    "    \n",
    "    def configure_optimizers(self):\n",
    "        optim = torch.optim.Adam(self.parameters())\n",
    "        return optim\n",
    "    \n",
    "    def training_step(self, batch, batch_idx):\n",
    "        inputs, targets = batch\n",
    "        output = self(inputs)\n",
    "        loss_train = self.loss(output, targets)\n",
    "        predictions = torch.argmax(output, dim=1)\n",
    "        acc_train = self.train_accm(predictions, targets)\n",
    "        return loss_train\n",
    "    \n",
    "    def validation_step(self, batch, batch_idx):\n",
    "        inputs, targets = batch\n",
    "        output = self(inputs)\n",
    "        loss_valid = self.loss(output, targets)\n",
    "        predictions = torch.argmax(output, dim=1)\n",
    "        acc_valid = self.valid_accm(predictions, targets)\n",
    "        return {\"loss\": loss_valid, \"p\": predictions, \"y\": targets}\n",
    "    \n",
    "    def training_epoch_end(self, outputs):\n",
    "        self.train_acc = self.train_accm.compute() * 100\n",
    "        self.avg_train_loss = torch.stack([x['loss'] for x in outputs]).mean()\n",
    "        self.train_accm.reset()\n",
    "        \n",
    "    def validation_epoch_end(self, outputs):\n",
    "        valid_acc = self.valid_accm.compute() * 100\n",
    "        avg_valid_loss = torch.stack([x['loss'] for x in outputs]).mean()\n",
    "        print(f'Epoch {self.current_epoch+1}/{self.trainer.max_epochs} : Train Accuracy: {self.train_acc:.2f}%, Valid Accuracy: {valid_acc:.2f}%, Avg. Train Loss: {self.avg_train_loss:.4f}, Avg. Valid Loss: {avg_valid_loss:.4f}')\n",
    "        self.valid_accm.reset()\n",
    "        if self.current_epoch == self.trainer.max_epochs - 1:\n",
    "            self.validation_end(outputs)\n",
    "    \n",
    "    def validation_end(self, outputs):\n",
    "        pb = [x['p'] for x in outputs]\n",
    "        yb = [x['y'] for x in outputs]\n",
    "        p = torch.cat(pb, 0).view(-1)\n",
    "        y = torch.cat(yb, 0).view(-1)"
   ]
  },
  {
   "cell_type": "markdown",
   "metadata": {},
   "source": [
    "## Original Dataset"
   ]
  },
  {
   "cell_type": "code",
   "execution_count": 3,
   "metadata": {},
   "outputs": [
    {
     "name": "stderr",
     "output_type": "stream",
     "text": [
      "GPU available: False, used: False\n",
      "TPU available: None, using: 0 TPU cores\n",
      "\n",
      "  | Name       | Type             | Params\n",
      "------------------------------------------------\n",
      "0 | loss       | CrossEntropyLoss | 0     \n",
      "1 | train_accm | Accuracy         | 0     \n",
      "2 | valid_accm | Accuracy         | 0     \n",
      "3 | model      | Sequential       | 52.6 K\n",
      "------------------------------------------------\n",
      "52.6 K    Trainable params\n",
      "0         Non-trainable params\n",
      "52.6 K    Total params\n",
      "0.211     Total estimated model params size (MB)\n"
     ]
    },
    {
     "data": {
      "application/vnd.jupyter.widget-view+json": {
       "model_id": "49f0ffeb3f9b40298c0967d8f175a4fe",
       "version_major": 2,
       "version_minor": 0
      },
      "text/plain": [
       "Training: 0it [00:00, ?it/s]"
      ]
     },
     "metadata": {},
     "output_type": "display_data"
    },
    {
     "data": {
      "application/vnd.jupyter.widget-view+json": {
       "model_id": "",
       "version_major": 2,
       "version_minor": 0
      },
      "text/plain": [
       "Validating: 0it [00:00, ?it/s]"
      ]
     },
     "metadata": {},
     "output_type": "display_data"
    },
    {
     "name": "stdout",
     "output_type": "stream",
     "text": [
      "Epoch 1/5 : Train Accuracy: 78.23%, Valid Accuracy: 91.99%, Avg. Train Loss: 0.7104, Avg. Valid Loss: 0.2734\n"
     ]
    },
    {
     "data": {
      "application/vnd.jupyter.widget-view+json": {
       "model_id": "",
       "version_major": 2,
       "version_minor": 0
      },
      "text/plain": [
       "Validating: 0it [00:00, ?it/s]"
      ]
     },
     "metadata": {},
     "output_type": "display_data"
    },
    {
     "name": "stdout",
     "output_type": "stream",
     "text": [
      "Epoch 2/5 : Train Accuracy: 89.96%, Valid Accuracy: 94.10%, Avg. Train Loss: 0.3491, Avg. Valid Loss: 0.2018\n"
     ]
    },
    {
     "data": {
      "application/vnd.jupyter.widget-view+json": {
       "model_id": "",
       "version_major": 2,
       "version_minor": 0
      },
      "text/plain": [
       "Validating: 0it [00:00, ?it/s]"
      ]
     },
     "metadata": {},
     "output_type": "display_data"
    },
    {
     "name": "stdout",
     "output_type": "stream",
     "text": [
      "Epoch 3/5 : Train Accuracy: 91.94%, Valid Accuracy: 95.23%, Avg. Train Loss: 0.2842, Avg. Valid Loss: 0.1661\n"
     ]
    },
    {
     "data": {
      "application/vnd.jupyter.widget-view+json": {
       "model_id": "",
       "version_major": 2,
       "version_minor": 0
      },
      "text/plain": [
       "Validating: 0it [00:00, ?it/s]"
      ]
     },
     "metadata": {},
     "output_type": "display_data"
    },
    {
     "name": "stdout",
     "output_type": "stream",
     "text": [
      "Epoch 4/5 : Train Accuracy: 92.96%, Valid Accuracy: 95.86%, Avg. Train Loss: 0.2451, Avg. Valid Loss: 0.1474\n"
     ]
    },
    {
     "data": {
      "application/vnd.jupyter.widget-view+json": {
       "model_id": "",
       "version_major": 2,
       "version_minor": 0
      },
      "text/plain": [
       "Validating: 0it [00:00, ?it/s]"
      ]
     },
     "metadata": {},
     "output_type": "display_data"
    },
    {
     "name": "stdout",
     "output_type": "stream",
     "text": [
      "Epoch 5/5 : Train Accuracy: 93.69%, Valid Accuracy: 96.11%, Avg. Train Loss: 0.2228, Avg. Valid Loss: 0.1342\n"
     ]
    },
    {
     "data": {
      "text/plain": [
       "1"
      ]
     },
     "execution_count": 3,
     "metadata": {},
     "output_type": "execute_result"
    }
   ],
   "source": [
    "train_dataset = torchvision.datasets.MNIST(\n",
    "                    root='.',\n",
    "                    train=True,\n",
    "                    transform=transforms.ToTensor(),\n",
    "                    download=True\n",
    "                    )\n",
    "\n",
    "val_dataset  = torchvision.datasets.MNIST(\n",
    "                    root='.',\n",
    "                    train=False,\n",
    "                    transform=transforms.ToTensor(),\n",
    "                    download=True\n",
    "                    )\n",
    "\n",
    "batch_size = 128\n",
    "train_loader = torch.utils.data.DataLoader(\n",
    "                        dataset=train_dataset,\n",
    "                        batch_size=batch_size,\n",
    "                        shuffle=True,\n",
    "                        num_workers=4\n",
    "                        )\n",
    "\n",
    "val_loader = torch.utils.data.DataLoader(\n",
    "                        dataset=val_dataset,\n",
    "                        batch_size=batch_size,\n",
    "                        shuffle=False,\n",
    "                        num_workers=4\n",
    "                        )\n",
    "trainer = pl.Trainer(max_epochs=5, num_sanity_val_steps=0)\n",
    "model1 = mnist_pl(784)\n",
    "trainer.fit(model1, train_dataloader=train_loader, val_dataloaders=val_loader)"
   ]
  },
  {
   "cell_type": "markdown",
   "metadata": {},
   "source": [
    "## 90% Variance"
   ]
  },
  {
   "cell_type": "code",
   "execution_count": 4,
   "metadata": {},
   "outputs": [],
   "source": [
    "train_data = train_dataset.data.numpy().reshape(-1, 784)\n",
    "val_data = val_dataset.data.numpy().reshape(-1, 784)"
   ]
  },
  {
   "cell_type": "code",
   "execution_count": 5,
   "metadata": {},
   "outputs": [
    {
     "data": {
      "text/plain": [
       "((60000, 784), (10000, 784))"
      ]
     },
     "execution_count": 5,
     "metadata": {},
     "output_type": "execute_result"
    }
   ],
   "source": [
    "train_data.shape, val_data.shape"
   ]
  },
  {
   "cell_type": "code",
   "execution_count": 6,
   "metadata": {},
   "outputs": [
    {
     "data": {
      "text/plain": [
       "((60000, 87), (10000, 87))"
      ]
     },
     "execution_count": 6,
     "metadata": {},
     "output_type": "execute_result"
    }
   ],
   "source": [
    "pca = PCA(n_components=0.90)\n",
    "train_data_090 = pca.fit_transform(train_data)\n",
    "val_data_090 = pca.transform(val_data)\n",
    "train_data_090.shape,  val_data_090.shape"
   ]
  },
  {
   "cell_type": "code",
   "execution_count": null,
   "metadata": {},
   "outputs": [],
   "source": [
    "train_data_090 = torch.from_numpy(train_data_090)\n",
    "val_data_090 = torch.from_numpy(val_data_090)\n",
    "train_data_090 = train_data_090.type(torch.FloatTensor)\n",
    "val_data_090 = val_data_090.type(torch.FloatTensor)\n",
    "\n",
    "\n",
    "train_dataset_090 = torch.utils.data.TensorDataset(train_data_090, train_dataset.targets)\n",
    "val_dataset_090 = torch.utils.data.TensorDataset(val_data_090, val_dataset.targets)"
   ]
  },
  {
   "cell_type": "code",
   "execution_count": 8,
   "metadata": {},
   "outputs": [],
   "source": [
    "batch_size = 128\n",
    "train_loader_090 = torch.utils.data.DataLoader(\n",
    "                        dataset=train_dataset_090,\n",
    "                        batch_size=batch_size,\n",
    "                        shuffle=True,\n",
    "                        num_workers=4\n",
    "                        )\n",
    "\n",
    "val_loader_090 = torch.utils.data.DataLoader(\n",
    "                        dataset=val_dataset_090,\n",
    "                        batch_size=batch_size,\n",
    "                        shuffle=False,\n",
    "                        num_workers=4\n",
    "                        )"
   ]
  },
  {
   "cell_type": "code",
   "execution_count": 9,
   "metadata": {},
   "outputs": [
    {
     "name": "stderr",
     "output_type": "stream",
     "text": [
      "GPU available: False, used: False\n",
      "TPU available: None, using: 0 TPU cores\n",
      "\n",
      "  | Name       | Type             | Params\n",
      "------------------------------------------------\n",
      "0 | loss       | CrossEntropyLoss | 0     \n",
      "1 | train_accm | Accuracy         | 0     \n",
      "2 | valid_accm | Accuracy         | 0     \n",
      "3 | model      | Sequential       | 8.0 K \n",
      "------------------------------------------------\n",
      "8.0 K     Trainable params\n",
      "0         Non-trainable params\n",
      "8.0 K     Total params\n",
      "0.032     Total estimated model params size (MB)\n"
     ]
    },
    {
     "data": {
      "application/vnd.jupyter.widget-view+json": {
       "model_id": "843702268ae5463388ee9a3de0f3ecd7",
       "version_major": 2,
       "version_minor": 0
      },
      "text/plain": [
       "Training: 0it [00:00, ?it/s]"
      ]
     },
     "metadata": {},
     "output_type": "display_data"
    },
    {
     "data": {
      "application/vnd.jupyter.widget-view+json": {
       "model_id": "",
       "version_major": 2,
       "version_minor": 0
      },
      "text/plain": [
       "Validating: 0it [00:00, ?it/s]"
      ]
     },
     "metadata": {},
     "output_type": "display_data"
    },
    {
     "name": "stdout",
     "output_type": "stream",
     "text": [
      "Epoch 1/5 : Train Accuracy: 51.52%, Valid Accuracy: 84.28%, Avg. Train Loss: 2.3768, Avg. Valid Loss: 0.5190\n"
     ]
    },
    {
     "data": {
      "application/vnd.jupyter.widget-view+json": {
       "model_id": "",
       "version_major": 2,
       "version_minor": 0
      },
      "text/plain": [
       "Validating: 0it [00:00, ?it/s]"
      ]
     },
     "metadata": {},
     "output_type": "display_data"
    },
    {
     "name": "stdout",
     "output_type": "stream",
     "text": [
      "Epoch 2/5 : Train Accuracy: 75.62%, Valid Accuracy: 91.19%, Avg. Train Loss: 0.7656, Avg. Valid Loss: 0.3165\n"
     ]
    },
    {
     "data": {
      "application/vnd.jupyter.widget-view+json": {
       "model_id": "",
       "version_major": 2,
       "version_minor": 0
      },
      "text/plain": [
       "Validating: 0it [00:00, ?it/s]"
      ]
     },
     "metadata": {},
     "output_type": "display_data"
    },
    {
     "name": "stdout",
     "output_type": "stream",
     "text": [
      "Epoch 3/5 : Train Accuracy: 82.52%, Valid Accuracy: 92.93%, Avg. Train Loss: 0.5586, Avg. Valid Loss: 0.2532\n"
     ]
    },
    {
     "data": {
      "application/vnd.jupyter.widget-view+json": {
       "model_id": "",
       "version_major": 2,
       "version_minor": 0
      },
      "text/plain": [
       "Validating: 0it [00:00, ?it/s]"
      ]
     },
     "metadata": {},
     "output_type": "display_data"
    },
    {
     "name": "stdout",
     "output_type": "stream",
     "text": [
      "Epoch 4/5 : Train Accuracy: 86.17%, Valid Accuracy: 93.53%, Avg. Train Loss: 0.4517, Avg. Valid Loss: 0.2151\n"
     ]
    },
    {
     "data": {
      "application/vnd.jupyter.widget-view+json": {
       "model_id": "",
       "version_major": 2,
       "version_minor": 0
      },
      "text/plain": [
       "Validating: 0it [00:00, ?it/s]"
      ]
     },
     "metadata": {},
     "output_type": "display_data"
    },
    {
     "name": "stdout",
     "output_type": "stream",
     "text": [
      "Epoch 5/5 : Train Accuracy: 88.25%, Valid Accuracy: 94.37%, Avg. Train Loss: 0.3950, Avg. Valid Loss: 0.1935\n"
     ]
    },
    {
     "data": {
      "text/plain": [
       "1"
      ]
     },
     "execution_count": 9,
     "metadata": {},
     "output_type": "execute_result"
    }
   ],
   "source": [
    "trainer = pl.Trainer(max_epochs=5, num_sanity_val_steps=0)\n",
    "model2 = mnist_pl(87)\n",
    "trainer.fit(model2, train_dataloader=train_loader_090, val_dataloaders=val_loader_090)"
   ]
  },
  {
   "cell_type": "markdown",
   "metadata": {},
   "source": [
    "## Only 2 Components"
   ]
  },
  {
   "cell_type": "code",
   "execution_count": 10,
   "metadata": {},
   "outputs": [
    {
     "data": {
      "text/plain": [
       "((60000, 2), (10000, 2))"
      ]
     },
     "execution_count": 10,
     "metadata": {},
     "output_type": "execute_result"
    }
   ],
   "source": [
    "pca = PCA(n_components=2)\n",
    "train_data_2 = pca.fit_transform(train_data)\n",
    "val_data_2 = pca.transform(val_data)\n",
    "train_data_2.shape,  val_data_2.shape"
   ]
  },
  {
   "cell_type": "code",
   "execution_count": 11,
   "metadata": {},
   "outputs": [],
   "source": [
    "train_data_2 = torch.from_numpy(train_data_2)\n",
    "val_data_2 = torch.from_numpy(val_data_2)\n",
    "train_data_2 = train_data_2.type(torch.FloatTensor)\n",
    "val_data_2= val_data_2.type(torch.FloatTensor)\n",
    "\n",
    "train_dataset_2 = torch.utils.data.TensorDataset(train_data_2, train_dataset.targets)\n",
    "val_dataset_2 = torch.utils.data.TensorDataset(val_data_2, val_dataset.targets)"
   ]
  },
  {
   "cell_type": "code",
   "execution_count": 12,
   "metadata": {},
   "outputs": [],
   "source": [
    "batch_size = 128\n",
    "train_loader_2 = torch.utils.data.DataLoader(\n",
    "                        dataset=train_dataset_2,\n",
    "                        batch_size=batch_size,\n",
    "                        shuffle=True,\n",
    "                        num_workers=4\n",
    "                        )\n",
    "\n",
    "val_loader_2 = torch.utils.data.DataLoader(\n",
    "                        dataset=val_dataset_2,\n",
    "                        batch_size=batch_size,\n",
    "                        shuffle=False,\n",
    "                        num_workers=4\n",
    "                        )"
   ]
  },
  {
   "cell_type": "code",
   "execution_count": 13,
   "metadata": {},
   "outputs": [
    {
     "name": "stderr",
     "output_type": "stream",
     "text": [
      "GPU available: False, used: False\n",
      "TPU available: None, using: 0 TPU cores\n",
      "\n",
      "  | Name       | Type             | Params\n",
      "------------------------------------------------\n",
      "0 | loss       | CrossEntropyLoss | 0     \n",
      "1 | train_accm | Accuracy         | 0     \n",
      "2 | valid_accm | Accuracy         | 0     \n",
      "3 | model      | Sequential       | 2.6 K \n",
      "------------------------------------------------\n",
      "2.6 K     Trainable params\n",
      "0         Non-trainable params\n",
      "2.6 K     Total params\n",
      "0.010     Total estimated model params size (MB)\n"
     ]
    },
    {
     "data": {
      "application/vnd.jupyter.widget-view+json": {
       "model_id": "b59590ca8d90419097447217ed06cea5",
       "version_major": 2,
       "version_minor": 0
      },
      "text/plain": [
       "Training: 0it [00:00, ?it/s]"
      ]
     },
     "metadata": {},
     "output_type": "display_data"
    },
    {
     "data": {
      "application/vnd.jupyter.widget-view+json": {
       "model_id": "",
       "version_major": 2,
       "version_minor": 0
      },
      "text/plain": [
       "Validating: 0it [00:00, ?it/s]"
      ]
     },
     "metadata": {},
     "output_type": "display_data"
    },
    {
     "name": "stdout",
     "output_type": "stream",
     "text": [
      "Epoch 1/5 : Train Accuracy: 20.24%, Valid Accuracy: 36.18%, Avg. Train Loss: 5.1499, Avg. Valid Loss: 1.6554\n"
     ]
    },
    {
     "data": {
      "application/vnd.jupyter.widget-view+json": {
       "model_id": "",
       "version_major": 2,
       "version_minor": 0
      },
      "text/plain": [
       "Validating: 0it [00:00, ?it/s]"
      ]
     },
     "metadata": {},
     "output_type": "display_data"
    },
    {
     "name": "stdout",
     "output_type": "stream",
     "text": [
      "Epoch 2/5 : Train Accuracy: 28.40%, Valid Accuracy: 39.54%, Avg. Train Loss: 1.8405, Avg. Valid Loss: 1.5813\n"
     ]
    },
    {
     "data": {
      "application/vnd.jupyter.widget-view+json": {
       "model_id": "",
       "version_major": 2,
       "version_minor": 0
      },
      "text/plain": [
       "Validating: 0it [00:00, ?it/s]"
      ]
     },
     "metadata": {},
     "output_type": "display_data"
    },
    {
     "name": "stdout",
     "output_type": "stream",
     "text": [
      "Epoch 3/5 : Train Accuracy: 29.64%, Valid Accuracy: 37.32%, Avg. Train Loss: 1.7887, Avg. Valid Loss: 1.5513\n"
     ]
    },
    {
     "data": {
      "application/vnd.jupyter.widget-view+json": {
       "model_id": "",
       "version_major": 2,
       "version_minor": 0
      },
      "text/plain": [
       "Validating: 0it [00:00, ?it/s]"
      ]
     },
     "metadata": {},
     "output_type": "display_data"
    },
    {
     "name": "stdout",
     "output_type": "stream",
     "text": [
      "Epoch 4/5 : Train Accuracy: 30.23%, Valid Accuracy: 38.89%, Avg. Train Loss: 1.7536, Avg. Valid Loss: 1.5175\n"
     ]
    },
    {
     "data": {
      "application/vnd.jupyter.widget-view+json": {
       "model_id": "",
       "version_major": 2,
       "version_minor": 0
      },
      "text/plain": [
       "Validating: 0it [00:00, ?it/s]"
      ]
     },
     "metadata": {},
     "output_type": "display_data"
    },
    {
     "name": "stdout",
     "output_type": "stream",
     "text": [
      "Epoch 5/5 : Train Accuracy: 30.51%, Valid Accuracy: 41.55%, Avg. Train Loss: 1.7453, Avg. Valid Loss: 1.5232\n"
     ]
    },
    {
     "data": {
      "text/plain": [
       "1"
      ]
     },
     "execution_count": 13,
     "metadata": {},
     "output_type": "execute_result"
    }
   ],
   "source": [
    "trainer = pl.Trainer(max_epochs=5, num_sanity_val_steps=0)\n",
    "model3 = mnist_pl(2)\n",
    "trainer.fit(model3, train_dataloader=train_loader_2, val_dataloaders=val_loader_2)"
   ]
  },
  {
   "cell_type": "code",
   "execution_count": null,
   "metadata": {},
   "outputs": [],
   "source": []
  }
 ],
 "metadata": {
  "kernelspec": {
   "display_name": "Python 3",
   "language": "python",
   "name": "python3"
  },
  "language_info": {
   "codemirror_mode": {
    "name": "ipython",
    "version": 3
   },
   "file_extension": ".py",
   "mimetype": "text/x-python",
   "name": "python",
   "nbconvert_exporter": "python",
   "pygments_lexer": "ipython3",
   "version": "3.8.6"
  }
 },
 "nbformat": 4,
 "nbformat_minor": 4
}
